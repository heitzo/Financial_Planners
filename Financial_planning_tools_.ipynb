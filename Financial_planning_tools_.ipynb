{
 "cells": [
  {
   "cell_type": "code",
   "execution_count": 72,
   "id": "78579195-ffba-425c-b804-a88483a1c152",
   "metadata": {},
   "outputs": [],
   "source": [
    "# Import the required libraries and dependencies\n",
    "import pandas as pd\n",
    "import os\n",
    "import requests\n",
    "import json\n",
    "from dotenv import load_dotenv\n",
    "import alpaca_trade_api as tradeapi\n",
    "from MCForecastTools import MCSimulation\n",
    "%matplotlib inline"
   ]
  },
  {
   "cell_type": "code",
   "execution_count": 73,
   "id": "e1ea98d2-2204-415f-a54b-e1799b785801",
   "metadata": {},
   "outputs": [
    {
     "data": {
      "text/plain": [
       "True"
      ]
     },
     "execution_count": 73,
     "metadata": {},
     "output_type": "execute_result"
    }
   ],
   "source": [
    "# Load the environment variables from the .env file\n",
    "#by calling the load_dotenv function\n",
    "load_dotenv()"
   ]
  },
  {
   "cell_type": "code",
   "execution_count": 74,
   "id": "715406d8-3b73-43f1-b2b8-6c81b1a3ec01",
   "metadata": {},
   "outputs": [],
   "source": [
    "## Evaluate the Cryptocurrency Wallet by Using the Requests Library\n",
    "# The current number of coins for each cryptocurrency asset held in the portfolio.\n",
    "btc_coins = 1.2\n",
    "eth_coins = 5.3"
   ]
  },
  {
   "cell_type": "code",
   "execution_count": 75,
   "id": "a050bba3-9272-441b-a371-feaf2052d0c8",
   "metadata": {},
   "outputs": [],
   "source": [
    "# Step 1: Create a variable named monthly_income, and set its value to 12000\n",
    "monthly_income=12000"
   ]
  },
  {
   "cell_type": "code",
   "execution_count": 76,
   "id": "6e95d622-c2ef-4ac9-8318-220034fab020",
   "metadata": {},
   "outputs": [],
   "source": [
    "# Review the endpoint URLs for the API calls to Free Crypto API in order to get the current pricing information for both BTC and ETH.\n",
    "# The Free Crypto API Call endpoint URLs for the held cryptocurrency assets\n",
    "btc_url = \"https://api.alternative.me/v2/ticker/Bitcoin/?convert=USD\"\n",
    "eth_url = \"https://api.alternative.me/v2/ticker/Ethereum/?convert=USD\""
   ]
  },
  {
   "cell_type": "code",
   "execution_count": 77,
   "id": "e58e51be-c0d0-4656-829c-f196b1df28d1",
   "metadata": {},
   "outputs": [
    {
     "name": "stdout",
     "output_type": "stream",
     "text": [
      "{\n",
      "    \"data\": {\n",
      "        \"1\": {\n",
      "            \"circulating_supply\": 19025862,\n",
      "            \"id\": 1,\n",
      "            \"last_updated\": 1651260275,\n",
      "            \"max_supply\": 21000000,\n",
      "            \"name\": \"Bitcoin\",\n",
      "            \"quotes\": {\n",
      "                \"USD\": {\n",
      "                    \"market_cap\": 732855909514,\n",
      "                    \"percent_change_1h\": 0.050888080068696,\n",
      "                    \"percent_change_24h\": -3.95691575285662,\n",
      "                    \"percent_change_7d\": -4.7812204435968,\n",
      "                    \"percentage_change_1h\": 0.050888080068696,\n",
      "                    \"percentage_change_24h\": -3.95691575285662,\n",
      "                    \"percentage_change_7d\": -4.7812204435968,\n",
      "                    \"price\": 38591.0,\n",
      "                    \"volume_24h\": 29422902518\n",
      "                }\n",
      "            },\n",
      "            \"rank\": 1,\n",
      "            \"symbol\": \"BTC\",\n",
      "            \"total_supply\": 19025862,\n",
      "            \"website_slug\": \"bitcoin\"\n",
      "        }\n",
      "    },\n",
      "    \"metadata\": {\n",
      "        \"error\": null,\n",
      "        \"num_cryptocurrencies\": 3106,\n",
      "        \"timestamp\": 1651260275\n",
      "    }\n",
      "}\n"
     ]
    }
   ],
   "source": [
    "# Step 2. Use the Requests library to get the current price (in US dollars) of Bitcoin (BTC) and Ethereum (ETH) by using the API endpoints that the starter code supplied.\n",
    "btc_response = requests.get(btc_url).json()\n",
    "# Use the json.dumps function to review the response data from the API call\n",
    "# Use the indent and sort_keys parameters to make the response object readable\n",
    "print(json.dumps(btc_response, indent=4, sort_keys=True))"
   ]
  },
  {
   "cell_type": "code",
   "execution_count": 78,
   "id": "707f4b9c-fd3a-44a1-9c3b-d03229717d4b",
   "metadata": {},
   "outputs": [
    {
     "name": "stdout",
     "output_type": "stream",
     "text": [
      "{\n",
      "    \"data\": {\n",
      "        \"1027\": {\n",
      "            \"circulating_supply\": 120579407,\n",
      "            \"id\": 1027,\n",
      "            \"last_updated\": 1651260291,\n",
      "            \"max_supply\": 0,\n",
      "            \"name\": \"Ethereum\",\n",
      "            \"quotes\": {\n",
      "                \"USD\": {\n",
      "                    \"market_cap\": 338873793829,\n",
      "                    \"percent_change_1h\": -0.184644850755413,\n",
      "                    \"percent_change_24h\": -5.3110306075377,\n",
      "                    \"percent_change_7d\": -5.8123251841639,\n",
      "                    \"percentage_change_1h\": -0.184644850755413,\n",
      "                    \"percentage_change_24h\": -5.3110306075377,\n",
      "                    \"percentage_change_7d\": -5.8123251841639,\n",
      "                    \"price\": 2813.85,\n",
      "                    \"volume_24h\": 16875171395\n",
      "                }\n",
      "            },\n",
      "            \"rank\": 2,\n",
      "            \"symbol\": \"ETH\",\n",
      "            \"total_supply\": 120579407,\n",
      "            \"website_slug\": \"ethereum\"\n",
      "        }\n",
      "    },\n",
      "    \"metadata\": {\n",
      "        \"error\": null,\n",
      "        \"num_cryptocurrencies\": 3106,\n",
      "        \"timestamp\": 1651260291\n",
      "    }\n",
      "}\n"
     ]
    }
   ],
   "source": [
    "# Using the Python requests library, make an API call to access the current price ETH\n",
    "eth_response = requests.get(eth_url).json()\n",
    "# Use the json.dumps function to review the response data from the API call\n",
    "# Use the indent and sort_keys parameters to make the response object readable\n",
    "print(json.dumps(eth_response, indent=4, sort_keys=True))"
   ]
  },
  {
   "cell_type": "code",
   "execution_count": 79,
   "id": "a83c6de6-f8c8-49de-a02b-a81475a984df",
   "metadata": {},
   "outputs": [
    {
     "name": "stdout",
     "output_type": "stream",
     "text": [
      "The current BTC price is $ 38591.0\n"
     ]
    }
   ],
   "source": [
    "# Step 3: Navigate the JSON response object to access the current price of each coin, and store each in a variable.\n",
    "# Navigate the BTC response object to access the current price of BTC\n",
    "btc_price = btc_response['data']['1']['quotes']['USD']['price']\n",
    "# btc_price = (f' The current BTC price is $ {btc_price}')                                \n",
    "# Print the current price of BTC\n",
    "print(f'The current BTC price is $ {btc_price}')\n"
   ]
  },
  {
   "cell_type": "code",
   "execution_count": 80,
   "id": "9e889ee0-65a7-4dd3-9fed-27e05d4cda03",
   "metadata": {},
   "outputs": [
    {
     "name": "stdout",
     "output_type": "stream",
     "text": [
      "The current ETH price is $ 2813.85\n"
     ]
    }
   ],
   "source": [
    "# Navigate the BTC response object to access the current price of ETH\n",
    "eth_price = eth_response['data']['1027']['quotes']['USD']['price']\n",
    "# eth_price = (f' The current ETH price is $ {eth_price}')\n",
    "# Print the current price of ETH\n",
    "print(f'The current ETH price is $ {eth_price}')\n",
    "\n"
   ]
  },
  {
   "cell_type": "code",
   "execution_count": 81,
   "id": "d169d06c-b2d7-44ec-b70a-12fe8cefc3ad",
   "metadata": {},
   "outputs": [
    {
     "name": "stdout",
     "output_type": "stream",
     "text": [
      "46309.2\n"
     ]
    }
   ],
   "source": [
    "# Step 4: Calculate the value, in US dollars, of the current amount of each cryptocurrency and of the entire cryptocurrency wallet.\n",
    "# Compute the current value of the BTC holding \n",
    "# price * total in portfolio\n",
    "btc_value = btc_price * btc_coins\n",
    "print(btc_value)"
   ]
  },
  {
   "cell_type": "code",
   "execution_count": 82,
   "id": "1c22c23e-ce8b-44ff-95c8-640d43ce258b",
   "metadata": {},
   "outputs": [
    {
     "name": "stdout",
     "output_type": "stream",
     "text": [
      "14913.404999999999\n"
     ]
    }
   ],
   "source": [
    "eth_value = eth_price * eth_coins\n",
    "print(eth_value)"
   ]
  },
  {
   "cell_type": "code",
   "execution_count": 83,
   "id": "c831a18b-55ae-4957-ba0f-468971a767e1",
   "metadata": {},
   "outputs": [
    {
     "name": "stdout",
     "output_type": "stream",
     "text": [
      "61222.604999999996\n"
     ]
    }
   ],
   "source": [
    "total_value_crypto = eth_value + btc_value\n",
    "print(total_value_crypto)\n"
   ]
  },
  {
   "cell_type": "code",
   "execution_count": 84,
   "id": "3d46e9b1-a5cf-463d-a59c-a17bfc4fd763",
   "metadata": {},
   "outputs": [],
   "source": [
    "# Current amount of shares held in both the stock (SPY) and bond (AGG) portion of the portfolio.\n",
    "spy_shares = 110\n",
    "agg_shares = 200\n",
    "\n"
   ]
  },
  {
   "cell_type": "code",
   "execution_count": 85,
   "id": "27521e8e-13e3-494f-855b-15b3fc15a976",
   "metadata": {},
   "outputs": [],
   "source": [
    "# Set the variables for the Alpaca API and secret keys\n",
    "Alpaca_API_Key = os.getenv(\"ALPACA_API_KEY\")\n",
    "Alpaca_secret_key = os.getenv(\"ALPACA_SECRET_KEY\")\n",
    "type(Alpaca_API_Key)\n",
    "\n",
    "# Create the Alpaca tradeapi.REST object\n",
    "tradeapi= tradeapi.REST(Alpaca_API_Key, Alpaca_secret_key, api_version=\"v2\")\n",
    "\n"
   ]
  },
  {
   "cell_type": "code",
   "execution_count": 89,
   "id": "80a57701-1845-471e-93d6-487335e2a1b0",
   "metadata": {},
   "outputs": [],
   "source": [
    "# Set the tickers for both the bond and stock portion of the portfolio\n",
    "tickers = [\"SPY\", \"AGG\"]\n",
    "\n",
    "# Set timeframe to 1Day\n",
    "timeframe = \"1Day\"\n",
    "\n",
    "# Format current date as ISO format\n",
    "# Set both the start and end date at the date of your prior weekday \n",
    "# start_date= pd.Timestamp(\"2022-04-28\",tz=\"America/New_York\").isoformat()\n",
    "# end_date = pd.Timestamp(\"2022-04-28\", tz=\"America/New_York\").isoformat()\n",
    "# This will give you the closing price of the previous trading day\n",
    "# Alternatively you can use a start and end date of 2020-08-07\n",
    "yesterday = pd.Timestamp(\"2022-04-28\",tz=\"America/New_York\").isoformat()\n"
   ]
  },
  {
   "cell_type": "code",
   "execution_count": null,
   "id": "1a1afc9a-52b3-4659-a9fa-c2ac1db8b48f",
   "metadata": {},
   "outputs": [],
   "source": []
  },
  {
   "cell_type": "code",
   "execution_count": 90,
   "id": "7f41869d-a99f-497d-b88d-9f8b0ff8c55a",
   "metadata": {},
   "outputs": [
    {
     "ename": "NameError",
     "evalue": "name 'prices_df' is not defined",
     "output_type": "error",
     "traceback": [
      "\u001b[0;31m---------------------------------------------------------------------------\u001b[0m",
      "\u001b[0;31mNameError\u001b[0m                                 Traceback (most recent call last)",
      "\u001b[0;32m/var/folders/l8/h_kl8b_9545cnphmprhv7_0c0000gn/T/ipykernel_57459/2241118240.py\u001b[0m in \u001b[0;36m<module>\u001b[0;34m\u001b[0m\n\u001b[0;32m----> 1\u001b[0;31m \u001b[0mMC_thirty_year\u001b[0m \u001b[0;34m=\u001b[0m \u001b[0mMCSimulation\u001b[0m\u001b[0;34m(\u001b[0m\u001b[0mprices_df\u001b[0m\u001b[0;34m,\u001b[0m \u001b[0mweights\u001b[0m \u001b[0;34m=\u001b[0m \u001b[0;34m[\u001b[0m\u001b[0;36m.6\u001b[0m\u001b[0;34m,\u001b[0m \u001b[0;36m.4\u001b[0m\u001b[0;34m]\u001b[0m\u001b[0;34m,\u001b[0m \u001b[0mnum_simulation\u001b[0m \u001b[0;34m=\u001b[0m \u001b[0;36m100\u001b[0m\u001b[0;34m,\u001b[0m \u001b[0mnum_trading_days\u001b[0m \u001b[0;34m=\u001b[0m \u001b[0;36m252\u001b[0m\u001b[0;34m*\u001b[0m\u001b[0;36m30\u001b[0m\u001b[0;34m)\u001b[0m\u001b[0;34m\u001b[0m\u001b[0;34m\u001b[0m\u001b[0m\n\u001b[0m",
      "\u001b[0;31mNameError\u001b[0m: name 'prices_df' is not defined"
     ]
    }
   ],
   "source": [
    "MC_thirty_year = MCSimulation(prices_df, weights = [.6, .4], num_simulation = 100, num_trading_days = 252*30)\n"
   ]
  },
  {
   "cell_type": "code",
   "execution_count": null,
   "id": "1892c819-6f5c-45ab-8357-16704699fd88",
   "metadata": {},
   "outputs": [],
   "source": []
  }
 ],
 "metadata": {
  "kernelspec": {
   "display_name": "dev",
   "language": "python",
   "name": "dev"
  },
  "language_info": {
   "codemirror_mode": {
    "name": "ipython",
    "version": 3
   },
   "file_extension": ".py",
   "mimetype": "text/x-python",
   "name": "python",
   "nbconvert_exporter": "python",
   "pygments_lexer": "ipython3",
   "version": "3.7.11"
  }
 },
 "nbformat": 4,
 "nbformat_minor": 5
}
